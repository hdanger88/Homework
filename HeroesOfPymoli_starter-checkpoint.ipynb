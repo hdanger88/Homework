{
 "cells": [
  {
   "cell_type": "markdown",
   "metadata": {},
   "source": [
    "### Heroes Of Pymoli Data Analysis\n",
    "  \n",
    "Observations\n",
    "\n",
    "- Majority of players are male\n",
    "- Majority of players are 20-24 years old.\n",
    "- Female players purchase less but have higher average purchase price.\n",
    "\n",
    "-----"
   ]
  },
  {
   "cell_type": "markdown",
   "metadata": {},
   "source": [
    "### Note\n",
    "* Instructions have been included for each segment. You do not have to follow them exactly, but they are included to help you think through the steps."
   ]
  },
  {
   "cell_type": "code",
   "execution_count": 41,
   "metadata": {},
   "outputs": [
    {
     "data": {
      "text/html": [
       "<div>\n",
       "<style scoped>\n",
       "    .dataframe tbody tr th:only-of-type {\n",
       "        vertical-align: middle;\n",
       "    }\n",
       "\n",
       "    .dataframe tbody tr th {\n",
       "        vertical-align: top;\n",
       "    }\n",
       "\n",
       "    .dataframe thead th {\n",
       "        text-align: right;\n",
       "    }\n",
       "</style>\n",
       "<table border=\"1\" class=\"dataframe\">\n",
       "  <thead>\n",
       "    <tr style=\"text-align: right;\">\n",
       "      <th></th>\n",
       "      <th>Purchase ID</th>\n",
       "      <th>SN</th>\n",
       "      <th>Age</th>\n",
       "      <th>Gender</th>\n",
       "      <th>Item ID</th>\n",
       "      <th>Item Name</th>\n",
       "      <th>Price</th>\n",
       "    </tr>\n",
       "  </thead>\n",
       "  <tbody>\n",
       "    <tr>\n",
       "      <th>0</th>\n",
       "      <td>0</td>\n",
       "      <td>Lisim78</td>\n",
       "      <td>20</td>\n",
       "      <td>Male</td>\n",
       "      <td>108</td>\n",
       "      <td>Extraction, Quickblade Of Trembling Hands</td>\n",
       "      <td>3.53</td>\n",
       "    </tr>\n",
       "    <tr>\n",
       "      <th>1</th>\n",
       "      <td>1</td>\n",
       "      <td>Lisovynya38</td>\n",
       "      <td>40</td>\n",
       "      <td>Male</td>\n",
       "      <td>143</td>\n",
       "      <td>Frenzied Scimitar</td>\n",
       "      <td>1.56</td>\n",
       "    </tr>\n",
       "    <tr>\n",
       "      <th>2</th>\n",
       "      <td>2</td>\n",
       "      <td>Ithergue48</td>\n",
       "      <td>24</td>\n",
       "      <td>Male</td>\n",
       "      <td>92</td>\n",
       "      <td>Final Critic</td>\n",
       "      <td>4.88</td>\n",
       "    </tr>\n",
       "    <tr>\n",
       "      <th>3</th>\n",
       "      <td>3</td>\n",
       "      <td>Chamassasya86</td>\n",
       "      <td>24</td>\n",
       "      <td>Male</td>\n",
       "      <td>100</td>\n",
       "      <td>Blindscythe</td>\n",
       "      <td>3.27</td>\n",
       "    </tr>\n",
       "    <tr>\n",
       "      <th>4</th>\n",
       "      <td>4</td>\n",
       "      <td>Iskosia90</td>\n",
       "      <td>23</td>\n",
       "      <td>Male</td>\n",
       "      <td>131</td>\n",
       "      <td>Fury</td>\n",
       "      <td>1.44</td>\n",
       "    </tr>\n",
       "  </tbody>\n",
       "</table>\n",
       "</div>"
      ],
      "text/plain": [
       "   Purchase ID             SN  Age Gender  Item ID  \\\n",
       "0            0        Lisim78   20   Male      108   \n",
       "1            1    Lisovynya38   40   Male      143   \n",
       "2            2     Ithergue48   24   Male       92   \n",
       "3            3  Chamassasya86   24   Male      100   \n",
       "4            4      Iskosia90   23   Male      131   \n",
       "\n",
       "                                   Item Name  Price  \n",
       "0  Extraction, Quickblade Of Trembling Hands   3.53  \n",
       "1                          Frenzied Scimitar   1.56  \n",
       "2                               Final Critic   4.88  \n",
       "3                                Blindscythe   3.27  \n",
       "4                                       Fury   1.44  "
      ]
     },
     "execution_count": 41,
     "metadata": {},
     "output_type": "execute_result"
    }
   ],
   "source": [
    "# Dependencies and Setup\n",
    "import pandas as pd\n",
    "import numpy as np\n",
    "\n",
    "# File to Load (Remember to Change These)\n",
    "file_to_load = \"Resources/purchase_data.csv\"\n",
    "\n",
    "# Read Purchasing File and store into Pandas data frame\n",
    "purchase_data = pd.read_csv(file_to_load)\n",
    "\n",
    "purchase_data.head()"
   ]
  },
  {
   "cell_type": "markdown",
   "metadata": {},
   "source": [
    "## Player Count"
   ]
  },
  {
   "cell_type": "markdown",
   "metadata": {},
   "source": [
    "* Display the total number of players\n"
   ]
  },
  {
   "cell_type": "code",
   "execution_count": 34,
   "metadata": {},
   "outputs": [
    {
     "data": {
      "text/plain": [
       "array(['Lisim78', 'Lisovynya38', 'Ithergue48', 'Chamassasya86',\n",
       "       'Iskosia90', 'Yalae81', 'Itheria73', 'Iskjaskst81', 'Undjask33',\n",
       "       'Chanosian48', 'Inguron55', 'Haisrisuir60', 'Saelaephos52',\n",
       "       'Assjaskan73', 'Saesrideu94', 'Lisassa64', 'Lisirra25',\n",
       "       'Zontibe81', 'Reunasu60', 'Chamalo71', 'Iathenudil29',\n",
       "       'Phiarithdeu40', 'Siarithria38', 'Eyrian71', 'Siala43',\n",
       "       'Lisirra87', 'Lirtossa84', 'Eusri44', 'Aela59', 'Tyida79',\n",
       "       'Idai61', 'Farusrian86', 'Aeralria27', 'Haillyrgue51', 'Sondim73',\n",
       "       'Jeyciman68', 'Idaisuir85', 'Seuthep89', 'Reulae52',\n",
       "       'Sondilsaya62', 'Aerithriaphos45', 'Assosia88', 'Aidaillodeu39',\n",
       "       'Aelly27', 'Tyeosri53', 'Haerith37', 'Yasrisu92', 'Chanuchi25',\n",
       "       'Asur96', 'Iaralrgue74', 'Chanosia34', 'Aelin32', 'Ilosianya35',\n",
       "       'Zhisrisu83', 'Phaelap26', 'Raesty92', 'Palyon91', 'Tyisur83',\n",
       "       'Yaliru88', 'Yadanu52', 'Jiskimya77', 'Yadaphos40', 'Alo38',\n",
       "       'Phaena87', 'Chamirraya83', 'Chanastsda67', 'Indonmol95',\n",
       "       'Jiskossa61', 'Pheodai94', 'Hari50', 'Marilsa69', 'Assistasda42',\n",
       "       'Lisosia93', 'Philodil43', 'Mindadaran26', 'Lirtosia63',\n",
       "       'Assjaskan56', 'Irithlis29', 'Heudai45', 'Haerithp41', 'Aina42',\n",
       "       'Jiskjask60', 'Umolrian85', 'Qarirwen82', 'Laedallo55',\n",
       "       'Eoralrap26', 'Undosian34', 'Chadolyla44', 'Chadistaya75',\n",
       "       'Yathedeu43', 'Aina43', 'Ilassast39', 'Lisassala98', 'Aiduecal76',\n",
       "       'Chadossa89', 'Pheodaisun84', 'Heollyriap59', 'Maropast28',\n",
       "       'Frichim77', 'Thryallym62', 'Eulanurin88', 'Lassjaskan73',\n",
       "       'Tyaerith73', 'Sondadarya58', 'Hirirap39', 'Ririp86', 'Sundim98',\n",
       "       'Iskichinya81', 'Phyali88', 'Undirrala66', 'Nitherian58',\n",
       "       'Lassilsala30', 'Frichaststa61', 'Frichosia58', 'Ilosia37',\n",
       "       'Lisista27', 'Seudaillorap38', 'Aesty53', 'Yathecal82',\n",
       "       'Lisossanya98', 'Iral74', 'Lisast87', 'Maridisya31', 'Jiskassa76',\n",
       "       'Ethriel85', 'Iskirra45', 'Iri67', 'Rarallo90', 'Lisasi93',\n",
       "       'Adastirin33', 'Eyista89', 'Ili43', 'Chamirra53', 'Hailaphos89',\n",
       "       'Iskadarya95', 'Qilatista90', 'Inasti31', 'Marilsanya48',\n",
       "       'Marjask87', 'Chanjaskan89', 'Hyaduesu61', 'Aillyrin83',\n",
       "       'Marast30', 'Sundadar27', 'Tyaelorap29', 'Lirtimst73',\n",
       "       'Styaduen40', 'Sidap51', 'Chanastst38', 'Lirtassa52', 'Sondim68',\n",
       "       'Aeral97', 'Heosurnuru52', 'Lisopela58', 'Caesrinusuir82',\n",
       "       'Tyirinu79', 'Fironon91', 'Lassjask63', 'Indcil77', 'Chamimla73',\n",
       "       'Syathe73', 'Baelollodeu94', 'Mindista32', 'Saena74',\n",
       "       'Marirrasta50', 'Lamil79', 'Aenarap34', 'Aisur51', 'Thrientossa55',\n",
       "       'Chadista79', 'Tyeurith29', 'Malunil62', 'Hiasri33', 'Lisadar44',\n",
       "       'Frichjask31', 'Lisjaskya84', 'Ristydru66', 'Frichast28',\n",
       "       'Minduri31', 'Maradaran90', 'Mindetosya30', 'Ialallo29',\n",
       "       'Pheusrical25', 'Chanosia60', 'Phistym51', 'Aelollo59',\n",
       "       'Chamimla85', 'Haisurra41', 'Sondastsda82', 'Qilanrion65',\n",
       "       'Eulasuir89', 'Eosrirgue62', 'Shaidanu32', 'Lirtastan49',\n",
       "       'Iaralsuir44', 'Tyeudariasuir90', 'Cosadar58', 'Aelastirin39',\n",
       "       'Aidai53', 'Jiskjask85', 'Ealrion88', 'Chamjask73', 'Tyaenasti87',\n",
       "       'Alim85', 'Haeladil46', 'Jiskirran77', 'Undosia27', 'Peorith44',\n",
       "       'Yarithsurgue62', 'Taeduenu92', 'Rairin89', 'Aerithriaphos46',\n",
       "       'Idairin51', 'Lisista54', 'Eodailis27', 'Lirtastsda29',\n",
       "       'Undilsan50', 'Eodaisu60', 'Quaranmol58', 'Lirtossa60',\n",
       "       'Lirtilsa71', 'Isursuir31', 'Sundirrala66', 'Saerallora71',\n",
       "       'Iasur80', 'Tyaelo67', 'Quanunwen42', 'Yasur35', 'Assehoan67',\n",
       "       'Haellysu29', 'Saida58', 'Chamadar79', 'Aeral43', 'Lirtirra37',\n",
       "       'Tyidaim51', 'Lassassast73', 'Assassasta79', 'Heollyra92',\n",
       "       'Anallorgue57', 'Aerithllora36', 'Smaistysu35', 'Ennalmol65',\n",
       "       'Yarithrgue83', 'Yana46', 'Sondimla25', 'Aidai61', 'Wailin72',\n",
       "       'Firan91', 'Alaesu91', 'Aellynun67', 'Rilaera56', 'Eulaestira36',\n",
       "       'Marim28', 'Idastidru52', 'Ilirrasda54', 'Alaephos75',\n",
       "       'Syalollorap93', 'Minduli80', 'Chanastya70', 'Frichadaran88',\n",
       "       'Siallylis44', 'Aeri84', 'Iasursti71', 'Mindilsa34', 'Chamastya76',\n",
       "       'Undirra73', 'Aestysu37', 'Chadadarla74', 'Strithenu87',\n",
       "       'Iasrira89', 'Ialidru40', 'Tyalaesu89', 'Tyidainu31', 'Lirtilsa72',\n",
       "       'Undjaskla97', 'Saedaiphos46', 'Aerithnucal56', 'Lisossa46',\n",
       "       'Layjask75', 'Lisista63', 'Ceoral34', 'Hilaerin92',\n",
       "       'Chadilsasta32', 'Undassa89', 'Iduenu77', 'Lisosia66',\n",
       "       'Undimsya85', 'Phaedue89', 'Yadacal26', 'Lisossa25', 'Ilmol66',\n",
       "       'Yastyriaphos75', 'Hiasurria41', 'Palatyon26', 'Qilalista41',\n",
       "       'Hada39', 'Chamilsala65', 'Rairith81', 'Ilarin91', 'Ryanara76',\n",
       "       'Undista85', 'Tyeoralru41', 'Pheosrinudeu70', 'Heuli25',\n",
       "       'Pheutherin27', 'Chadirra90', 'Ali84', 'Frichjaskan98', 'Malil90',\n",
       "       'Yarithllodeu72', 'Tyaedainu44', 'Ethron58', 'Eusurdeu49',\n",
       "       'Saistyphos30', 'Saisrilis27', 'Hallysucal81', 'Ilimya66',\n",
       "       'Raysistast71', 'Haedairiadru51', 'Tyananurgue44', 'Risty84',\n",
       "       'Aerillorin70', 'Phistyn52', 'Yalo85', 'Chamirrasya33', 'Hiral75',\n",
       "       'Isursti83', 'Bartassaya73', 'Aeda94', 'Quinarap53', 'Asur53',\n",
       "       'Alarap40', 'Sida61', 'Hiarideu73', 'Lassassasda30', 'Ennoncil86',\n",
       "       'Siralsudeu54', 'Eusri26', 'Ardcil81', 'Marilsasya33', 'Lirtim36',\n",
       "       'Heunadil74', 'Frichadar89', 'Aesurstilis64', 'Idaidil28',\n",
       "       'Lisotesta51', 'Lisico81', 'Lisiriya82', 'Siana77', 'Marokian45',\n",
       "       'Sausosia74', 'Assesi91', 'Eusri70', 'Aisurria69', 'Iarilis73',\n",
       "       'Raisty38', 'Ilista82', 'Leyirra83', 'Aiduesu86', 'Frichynde86',\n",
       "       'Hisridru55', 'Chamossa77', 'Irillo49', 'Lirtastsya71',\n",
       "       'Frichosiala98', 'Qilunan34', 'Quarrion42', 'Aisurdru79',\n",
       "       'Hiaral50', 'Iarallo65', 'Sondassasya91', 'Chanossast57',\n",
       "       'Chanjask65', 'Ethralista69', 'Sondistanya61', 'Eudanu32',\n",
       "       'Euthe35', 'Lassimla92', 'Lisossala30', 'Eulae84', 'Chamadarnya73',\n",
       "       'Eolan54', 'Assistasda90', 'Ennrian78', 'Undirrasta89',\n",
       "       'Rianistast50', 'Undare39', 'Adairialis76', 'Aesur96',\n",
       "       'Tyialisudeu65', 'Arirgue63', 'Sundadarla27', 'Eyircil84', 'Ina92',\n",
       "       'Lirtistanya48', 'Marassa62', 'Mindossa76', 'Salilis27',\n",
       "       'Sondossa69', 'Sundjask71', 'Errian63', 'Eurithphos97',\n",
       "       'Raillydeu47', 'Malon70', 'Jiskimsda56', 'Marughi89', 'Ingatcil75',\n",
       "       'Chanirrasta87', 'Alaesu77', 'Ermol76', 'Tyeuduen32', 'Firon67',\n",
       "       'Iadueria43', 'Pheulidil31', 'Eodairu79', 'Frichocesta66',\n",
       "       'Thourdirra92', 'Chanastnya43', 'Iskim96', 'Eulolis41',\n",
       "       'Sastydeu50', 'Ilaesudil92', 'Yasur85', 'Aidain51',\n",
       "       'Aerithnuphos61', 'Yalostiphos68', 'Meosridil82', 'Aillyriadru65',\n",
       "       'Sally64', 'Lisim51', 'Isurria36', 'Silaera56', 'Leetirraya83',\n",
       "       'Lirtirra81', 'Eryon48', 'Iana95', 'Sondassan80', 'Chanadar44',\n",
       "       'Eosurdru76', 'Shidai42', 'Aesri53', 'Syally44', 'Jiskadarst60',\n",
       "       'Sondadar26', 'Malarrian73', 'Maluncil97', 'Ilunyon70', 'Yadam35',\n",
       "       'Dyally87', 'Pheosurllorin41', 'Frichaya88', 'Lassadarsda57',\n",
       "       'Marynde90', 'Isri34', 'Assastnya25', 'Ardonmol96',\n",
       "       'Lassirrasda85', 'Chadossa56', 'Poshilsa82', 'Yoishirrala98',\n",
       "       'Sundista37', 'Ilassa51', 'Filurarn35', 'Phaestycal84', 'Irilis75',\n",
       "       'Aeralstical35', 'Chanirrala39', 'Chanirra79', 'Assirra56',\n",
       "       'Seolollo93', 'Iathem87', 'Iasurriacal29', 'Lisast98', 'Filrion59',\n",
       "       'Halaecal66', 'Iskosian40', 'Ilastilis78', 'Seosrim97',\n",
       "       'Farrian71', 'Rithe53', 'Frichossala54', 'Chamjaskya75',\n",
       "       'Quanrion96', 'Tyaelaelis94', 'Quanenrian83', 'Chanirra64',\n",
       "       'Yadaisuir65', 'Syathecal44', 'Arin32', 'Aelaria33', 'Assassa81',\n",
       "       'Filrion83', 'Eoral49', 'Airi27', 'Eurisuru25', 'Liawista80',\n",
       "       'Lisirra58', 'Chamadarsda63', 'Haestyphos66', 'Phaedasurap84',\n",
       "       'Mindimnya67', 'Chadjask85', 'Eustyria89', 'Iskim66', 'Chamast86',\n",
       "       'Lirtassan78', 'Ethrasyon38', 'Quilassa66', 'Lisassasda39',\n",
       "       'Mindilsa60', 'Lalossa38', 'Chamistast30', 'Hariphos58',\n",
       "       'Assilsan72', 'Inasuir29', 'Chanilsasda38', 'Mindesi74',\n",
       "       'Ililsan66', 'Idacal95', 'Aeral68', 'Tyarithn67', 'Asty82',\n",
       "       'Yalaeria91', 'Chadjask77', 'Ealiril69', 'Quaecjask96',\n",
       "       'Firatan58', 'Yarolwen77', 'Tyaelistidru84', 'Yarithrin84',\n",
       "       'Tyaelly53', 'Phiristi62', 'Ililsasya43', 'Aithelis62',\n",
       "       'Undotesta33', 'Aelidru27', 'Chanossanya44', 'Maradarnya40',\n",
       "       'Lisilsa62', 'Saena89', 'Chanilsast61', 'Sundassa93', 'Aidai73',\n",
       "       'Indirrian56', 'Lisassasta50', 'Iduelis31', 'Chanosiaya39',\n",
       "       'Assylla81', 'Aidaira26', 'Eudanu84', 'Chamiman85', 'Tyialisti80',\n",
       "       'Marundi65', 'Eusur90', 'Mindirranya33', 'Phiallylis33', 'Isty55',\n",
       "       'Frichilsa31', 'Chanista95', 'Aellyria80', 'Rastynusuir31',\n",
       "       'Iljask75', 'Lisjaskan36', 'Mindjasksya61', 'Frichirranya75',\n",
       "       'Ilast79', 'Eratiel90', 'Assim27', 'Irith83', 'Ilosian36',\n",
       "       'Iskossasda43', 'Hala31', 'Jiskjask80', 'Aethedru70', 'Yathecal72',\n",
       "       'Sisur91'], dtype=object)"
      ]
     },
     "execution_count": 34,
     "metadata": {},
     "output_type": "execute_result"
    }
   ],
   "source": [
    "player_demographics = purchase_data.loc[:, [\"Gender\", \"SN\", \"Age\"]]\n",
    "\n",
    "unique_players = purchase_data[\"SN\"].unique()\n",
    "unique_players\n"
   ]
  },
  {
   "cell_type": "code",
   "execution_count": 3,
   "metadata": {},
   "outputs": [
    {
     "data": {
      "text/plain": [
       "576"
      ]
     },
     "execution_count": 3,
     "metadata": {},
     "output_type": "execute_result"
    }
   ],
   "source": [
    "len(unique)"
   ]
  },
  {
   "cell_type": "markdown",
   "metadata": {},
   "source": [
    "## Purchasing Analysis (Total)"
   ]
  },
  {
   "cell_type": "markdown",
   "metadata": {},
   "source": [
    "* Run basic calculations to obtain number of unique items, average price, etc.\n",
    "\n",
    "\n",
    "* Create a summary data frame to hold the results\n",
    "\n",
    "\n",
    "* Optional: give the displayed data cleaner formatting\n",
    "\n",
    "\n",
    "* Display the summary data frame\n"
   ]
  },
  {
   "cell_type": "code",
   "execution_count": 4,
   "metadata": {
    "scrolled": true
   },
   "outputs": [
    {
     "data": {
      "text/plain": [
       "183"
      ]
     },
     "execution_count": 4,
     "metadata": {},
     "output_type": "execute_result"
    }
   ],
   "source": [
    "unique_items_count = len(purchase_data[\"Item ID\"].unique())\n",
    "unique_items_count"
   ]
  },
  {
   "cell_type": "code",
   "execution_count": 5,
   "metadata": {},
   "outputs": [
    {
     "data": {
      "text/plain": [
       "3.050987179487176"
      ]
     },
     "execution_count": 5,
     "metadata": {},
     "output_type": "execute_result"
    }
   ],
   "source": [
    "average_price = purchase_data[\"Price\"].mean()\n",
    "average_price"
   ]
  },
  {
   "cell_type": "code",
   "execution_count": 6,
   "metadata": {},
   "outputs": [
    {
     "data": {
      "text/plain": [
       "780"
      ]
     },
     "execution_count": 6,
     "metadata": {},
     "output_type": "execute_result"
    }
   ],
   "source": [
    "number_of_purchases = len(purchase_data[\"Purchase ID\"])\n",
    "number_of_purchases\n"
   ]
  },
  {
   "cell_type": "code",
   "execution_count": 7,
   "metadata": {},
   "outputs": [
    {
     "data": {
      "text/plain": [
       "2379.77"
      ]
     },
     "execution_count": 7,
     "metadata": {},
     "output_type": "execute_result"
    }
   ],
   "source": [
    "total_revenue = purchase_data[\"Price\"].sum()\n",
    "total_revenue"
   ]
  },
  {
   "cell_type": "code",
   "execution_count": 12,
   "metadata": {},
   "outputs": [
    {
     "data": {
      "text/html": [
       "<div>\n",
       "<style scoped>\n",
       "    .dataframe tbody tr th:only-of-type {\n",
       "        vertical-align: middle;\n",
       "    }\n",
       "\n",
       "    .dataframe tbody tr th {\n",
       "        vertical-align: top;\n",
       "    }\n",
       "\n",
       "    .dataframe thead th {\n",
       "        text-align: right;\n",
       "    }\n",
       "</style>\n",
       "<table border=\"1\" class=\"dataframe\">\n",
       "  <thead>\n",
       "    <tr style=\"text-align: right;\">\n",
       "      <th></th>\n",
       "      <th>Unique Items</th>\n",
       "      <th>Average Price</th>\n",
       "      <th>Number of Purchases</th>\n",
       "      <th>Total Revenue</th>\n",
       "    </tr>\n",
       "  </thead>\n",
       "  <tbody>\n",
       "    <tr>\n",
       "      <th>0</th>\n",
       "      <td>183</td>\n",
       "      <td>3.050987</td>\n",
       "      <td>780</td>\n",
       "      <td>2379.77</td>\n",
       "    </tr>\n",
       "  </tbody>\n",
       "</table>\n",
       "</div>"
      ],
      "text/plain": [
       "   Unique Items  Average Price  Number of Purchases  Total Revenue\n",
       "0           183       3.050987                  780        2379.77"
      ]
     },
     "execution_count": 12,
     "metadata": {},
     "output_type": "execute_result"
    }
   ],
   "source": [
    "summary_df = pd.DataFrame({'Unique Items': unique_items_count,\n",
    "    'Average Price': average_price,\n",
    "    'Number of Purchases': number_of_purchases,\n",
    "    'Total Revenue': total_revenue}, index=[0]) \n",
    "summary_df"
   ]
  },
  {
   "cell_type": "markdown",
   "metadata": {},
   "source": [
    "## Gender Demographics"
   ]
  },
  {
   "cell_type": "markdown",
   "metadata": {},
   "source": [
    "* Percentage and Count of Male Players\n",
    "\n",
    "\n",
    "* Percentage and Count of Female Players\n",
    "\n",
    "\n",
    "* Percentage and Count of Other / Non-Disclosed\n",
    "\n",
    "\n"
   ]
  },
  {
   "cell_type": "code",
   "execution_count": 13,
   "metadata": {},
   "outputs": [
    {
     "data": {
      "text/plain": [
       "Male                     652\n",
       "Female                   113\n",
       "Other / Non-Disclosed     15\n",
       "Name: Gender, dtype: int64"
      ]
     },
     "execution_count": 13,
     "metadata": {},
     "output_type": "execute_result"
    }
   ],
   "source": [
    "#get gender count for gender column\n",
    "gender_demographics = purchase_data[\"Gender\"].value_counts()\n",
    "gender_demographics"
   ]
  },
  {
   "cell_type": "code",
   "execution_count": 14,
   "metadata": {},
   "outputs": [
    {
     "data": {
      "text/plain": [
       "Male                     0.835897\n",
       "Female                   0.144872\n",
       "Other / Non-Disclosed    0.019231\n",
       "Name: Gender, dtype: float64"
      ]
     },
     "execution_count": 14,
     "metadata": {},
     "output_type": "execute_result"
    }
   ],
   "source": [
    "#get gender ratios for gender column\n",
    "gender_ratios = purchase_data[\"Gender\"].value_counts(normalize=True)\n",
    "gender_ratios"
   ]
  },
  {
   "cell_type": "markdown",
   "metadata": {},
   "source": [
    "\n",
    "## Purchasing Analysis (Gender)"
   ]
  },
  {
   "cell_type": "markdown",
   "metadata": {},
   "source": [
    "* Run basic calculations to obtain purchase count, avg. purchase price, avg. purchase total per person etc. by gender\n",
    "\n",
    "\n",
    "\n",
    "\n",
    "* Create a summary data frame to hold the results\n",
    "\n",
    "\n",
    "* Optional: give the displayed data cleaner formatting\n",
    "\n",
    "\n",
    "* Display the summary data frame"
   ]
  },
  {
   "cell_type": "markdown",
   "metadata": {},
   "source": [
    "Female Purchases"
   ]
  },
  {
   "cell_type": "code",
   "execution_count": 15,
   "metadata": {},
   "outputs": [
    {
     "data": {
      "text/plain": [
       "Gender\n",
       "Female                    361.94\n",
       "Male                     1967.64\n",
       "Other / Non-Disclosed      50.19\n",
       "Name: Price, dtype: float64"
      ]
     },
     "execution_count": 15,
     "metadata": {},
     "output_type": "execute_result"
    }
   ],
   "source": [
    "total = purchase_data.groupby([\"Gender\"]).sum()[\"Price\"]\n",
    "total"
   ]
  },
  {
   "cell_type": "code",
   "execution_count": 16,
   "metadata": {},
   "outputs": [
    {
     "data": {
      "text/plain": [
       "3.203008849557522"
      ]
     },
     "execution_count": 16,
     "metadata": {},
     "output_type": "execute_result"
    }
   ],
   "source": [
    "#get data for female purchases\n",
    "female_purchases= purchase_data.loc[purchase_data[\"Gender\"] == \"Female\", [\"Purchase ID\", \"Price\"]]\n",
    "\n",
    "#calculate female purchase count\n",
    "female_purchases_count = female_purchases[\"Price\"].count()\n",
    "\n",
    "#calculate female purchases average purchase price\n",
    "female_purchases_avg_price = female_purchases[\"Price\"].mean()\n",
    "\n",
    "#calculate female total purchase value\n",
    "female_purchases_total_value = female_purchases[\"Price\"].sum()\n",
    "\n",
    "#calculate female purchases averag value\n",
    "female_purchases_avg_value = female_purchases_total_value / female_purchases_count\n",
    "female_purchases_avg_value\n"
   ]
  },
  {
   "cell_type": "code",
   "execution_count": 17,
   "metadata": {},
   "outputs": [
    {
     "data": {
      "text/html": [
       "<div>\n",
       "<style scoped>\n",
       "    .dataframe tbody tr th:only-of-type {\n",
       "        vertical-align: middle;\n",
       "    }\n",
       "\n",
       "    .dataframe tbody tr th {\n",
       "        vertical-align: top;\n",
       "    }\n",
       "\n",
       "    .dataframe thead th {\n",
       "        text-align: right;\n",
       "    }\n",
       "</style>\n",
       "<table border=\"1\" class=\"dataframe\">\n",
       "  <thead>\n",
       "    <tr style=\"text-align: right;\">\n",
       "      <th></th>\n",
       "      <th>Purchase Count</th>\n",
       "      <th>Average Price</th>\n",
       "      <th>Total Purchase Value</th>\n",
       "      <th>Average Purchase Total</th>\n",
       "    </tr>\n",
       "  </thead>\n",
       "  <tbody>\n",
       "    <tr>\n",
       "      <th>0</th>\n",
       "      <td>113</td>\n",
       "      <td>3.203009</td>\n",
       "      <td>361.94</td>\n",
       "      <td>3.203009</td>\n",
       "    </tr>\n",
       "  </tbody>\n",
       "</table>\n",
       "</div>"
      ],
      "text/plain": [
       "   Purchase Count  Average Price  Total Purchase Value  Average Purchase Total\n",
       "0             113       3.203009                361.94                3.203009"
      ]
     },
     "execution_count": 17,
     "metadata": {},
     "output_type": "execute_result"
    }
   ],
   "source": [
    "# female_purchases_summary = [{'Purchase Count': female_purchases_count,\n",
    "#     'Average Price': female_purchases_avg_price,\n",
    "#     'Total Purchase Value': female_purchases_total_value,\n",
    "#     'Average Purchase Total': female_purchases_avg_value}]    \n",
    "\n",
    "female_purchases_summary_df = pd.DataFrame({'Purchase Count': female_purchases_count,\n",
    "    'Average Price': female_purchases_avg_price,\n",
    "    'Total Purchase Value': female_purchases_total_value,\n",
    "    'Average Purchase Total': female_purchases_avg_value},  index=[0])\n",
    "female_purchases_summary_df\n"
   ]
  },
  {
   "cell_type": "markdown",
   "metadata": {},
   "source": [
    "Male Purchases"
   ]
  },
  {
   "cell_type": "code",
   "execution_count": 18,
   "metadata": {},
   "outputs": [],
   "source": [
    "#get data for male purchases\n",
    "male_purchases= purchase_data.loc[purchase_data[\"Gender\"] == \"Male\", [\"Purchase ID\", \"Price\"]]\n",
    "\n",
    "#calculate male purchase count\n",
    "male_purchases_count = male_purchases[\"Purchase ID\"].count()\n",
    "\n",
    "#calculate male purchases average purchase price\n",
    "male_purchases_avg_price = male_purchases[\"Price\"].mean()\n",
    "\n",
    "#calculate male total purchase value\n",
    "male_purchases_total_value = male_purchases[\"Price\"].sum()\n",
    "\n",
    "#calculate male purchases averag value\n",
    "male_purchases_avg_value = male_purchases_total_value / male_purchases_count"
   ]
  },
  {
   "cell_type": "code",
   "execution_count": 26,
   "metadata": {},
   "outputs": [
    {
     "data": {
      "text/html": [
       "<div>\n",
       "<style scoped>\n",
       "    .dataframe tbody tr th:only-of-type {\n",
       "        vertical-align: middle;\n",
       "    }\n",
       "\n",
       "    .dataframe tbody tr th {\n",
       "        vertical-align: top;\n",
       "    }\n",
       "\n",
       "    .dataframe thead th {\n",
       "        text-align: right;\n",
       "    }\n",
       "</style>\n",
       "<table border=\"1\" class=\"dataframe\">\n",
       "  <thead>\n",
       "    <tr style=\"text-align: right;\">\n",
       "      <th></th>\n",
       "      <th>Purchase Count</th>\n",
       "      <th>Average Price</th>\n",
       "      <th>Total Purchase Value</th>\n",
       "      <th>Average Purchase Total</th>\n",
       "    </tr>\n",
       "  </thead>\n",
       "  <tbody>\n",
       "    <tr>\n",
       "      <th>0</th>\n",
       "      <td>652</td>\n",
       "      <td>3.017853</td>\n",
       "      <td>1967.64</td>\n",
       "      <td>3.017853</td>\n",
       "    </tr>\n",
       "  </tbody>\n",
       "</table>\n",
       "</div>"
      ],
      "text/plain": [
       "   Purchase Count  Average Price  Total Purchase Value  Average Purchase Total\n",
       "0             652       3.017853               1967.64                3.017853"
      ]
     },
     "execution_count": 26,
     "metadata": {},
     "output_type": "execute_result"
    }
   ],
   "source": [
    "male_purchases_summary = pd.DataFrame({'Purchase Count': male_purchases_count,\n",
    "    'Average Price': male_purchases_avg_price,\n",
    "    'Total Purchase Value': male_purchases_total_value,\n",
    "    'Average Purchase Total': male_purchases_avg_value}, index=[0])\n",
    "male_purchases_summary\n"
   ]
  },
  {
   "cell_type": "markdown",
   "metadata": {},
   "source": [
    "## Age Demographics"
   ]
  },
  {
   "cell_type": "markdown",
   "metadata": {},
   "source": [
    "* Establish bins for ages\n",
    "\n",
    "\n",
    "* Categorize the existing players using the age bins. Hint: use pd.cut()\n",
    "\n",
    "\n",
    "* Calculate the numbers and percentages by age group\n",
    "\n",
    "\n",
    "* Create a summary data frame to hold the results\n",
    "\n",
    "\n",
    "* Optional: round the percentage column to two decimal points\n",
    "\n",
    "\n",
    "* Display Age Demographics Table\n"
   ]
  },
  {
   "cell_type": "code",
   "execution_count": 32,
   "metadata": {
    "scrolled": true
   },
   "outputs": [
    {
     "data": {
      "text/html": [
       "<div>\n",
       "<style scoped>\n",
       "    .dataframe tbody tr th:only-of-type {\n",
       "        vertical-align: middle;\n",
       "    }\n",
       "\n",
       "    .dataframe tbody tr th {\n",
       "        vertical-align: top;\n",
       "    }\n",
       "\n",
       "    .dataframe thead th {\n",
       "        text-align: right;\n",
       "    }\n",
       "</style>\n",
       "<table border=\"1\" class=\"dataframe\">\n",
       "  <thead>\n",
       "    <tr style=\"text-align: right;\">\n",
       "      <th></th>\n",
       "      <th>Gender</th>\n",
       "      <th>SN</th>\n",
       "      <th>Age</th>\n",
       "      <th>Age Ranges</th>\n",
       "    </tr>\n",
       "  </thead>\n",
       "  <tbody>\n",
       "    <tr>\n",
       "      <th>0</th>\n",
       "      <td>Male</td>\n",
       "      <td>Lisim78</td>\n",
       "      <td>20</td>\n",
       "      <td>20-24</td>\n",
       "    </tr>\n",
       "    <tr>\n",
       "      <th>1</th>\n",
       "      <td>Male</td>\n",
       "      <td>Lisovynya38</td>\n",
       "      <td>40</td>\n",
       "      <td>40+</td>\n",
       "    </tr>\n",
       "    <tr>\n",
       "      <th>2</th>\n",
       "      <td>Male</td>\n",
       "      <td>Ithergue48</td>\n",
       "      <td>24</td>\n",
       "      <td>20-24</td>\n",
       "    </tr>\n",
       "    <tr>\n",
       "      <th>3</th>\n",
       "      <td>Male</td>\n",
       "      <td>Chamassasya86</td>\n",
       "      <td>24</td>\n",
       "      <td>20-24</td>\n",
       "    </tr>\n",
       "    <tr>\n",
       "      <th>4</th>\n",
       "      <td>Male</td>\n",
       "      <td>Iskosia90</td>\n",
       "      <td>23</td>\n",
       "      <td>20-24</td>\n",
       "    </tr>\n",
       "    <tr>\n",
       "      <th>5</th>\n",
       "      <td>Male</td>\n",
       "      <td>Yalae81</td>\n",
       "      <td>22</td>\n",
       "      <td>20-24</td>\n",
       "    </tr>\n",
       "    <tr>\n",
       "      <th>6</th>\n",
       "      <td>Male</td>\n",
       "      <td>Itheria73</td>\n",
       "      <td>36</td>\n",
       "      <td>35-39</td>\n",
       "    </tr>\n",
       "    <tr>\n",
       "      <th>7</th>\n",
       "      <td>Male</td>\n",
       "      <td>Iskjaskst81</td>\n",
       "      <td>20</td>\n",
       "      <td>20-24</td>\n",
       "    </tr>\n",
       "    <tr>\n",
       "      <th>8</th>\n",
       "      <td>Male</td>\n",
       "      <td>Undjask33</td>\n",
       "      <td>22</td>\n",
       "      <td>20-24</td>\n",
       "    </tr>\n",
       "    <tr>\n",
       "      <th>9</th>\n",
       "      <td>Other / Non-Disclosed</td>\n",
       "      <td>Chanosian48</td>\n",
       "      <td>35</td>\n",
       "      <td>35-39</td>\n",
       "    </tr>\n",
       "    <tr>\n",
       "      <th>10</th>\n",
       "      <td>Male</td>\n",
       "      <td>Inguron55</td>\n",
       "      <td>23</td>\n",
       "      <td>20-24</td>\n",
       "    </tr>\n",
       "    <tr>\n",
       "      <th>11</th>\n",
       "      <td>Male</td>\n",
       "      <td>Haisrisuir60</td>\n",
       "      <td>23</td>\n",
       "      <td>20-24</td>\n",
       "    </tr>\n",
       "    <tr>\n",
       "      <th>12</th>\n",
       "      <td>Male</td>\n",
       "      <td>Saelaephos52</td>\n",
       "      <td>21</td>\n",
       "      <td>20-24</td>\n",
       "    </tr>\n",
       "    <tr>\n",
       "      <th>13</th>\n",
       "      <td>Male</td>\n",
       "      <td>Assjaskan73</td>\n",
       "      <td>22</td>\n",
       "      <td>20-24</td>\n",
       "    </tr>\n",
       "    <tr>\n",
       "      <th>14</th>\n",
       "      <td>Male</td>\n",
       "      <td>Saesrideu94</td>\n",
       "      <td>35</td>\n",
       "      <td>35-39</td>\n",
       "    </tr>\n",
       "    <tr>\n",
       "      <th>15</th>\n",
       "      <td>Female</td>\n",
       "      <td>Lisassa64</td>\n",
       "      <td>21</td>\n",
       "      <td>20-24</td>\n",
       "    </tr>\n",
       "    <tr>\n",
       "      <th>16</th>\n",
       "      <td>Male</td>\n",
       "      <td>Lisirra25</td>\n",
       "      <td>20</td>\n",
       "      <td>20-24</td>\n",
       "    </tr>\n",
       "    <tr>\n",
       "      <th>17</th>\n",
       "      <td>Male</td>\n",
       "      <td>Zontibe81</td>\n",
       "      <td>21</td>\n",
       "      <td>20-24</td>\n",
       "    </tr>\n",
       "    <tr>\n",
       "      <th>18</th>\n",
       "      <td>Female</td>\n",
       "      <td>Reunasu60</td>\n",
       "      <td>22</td>\n",
       "      <td>20-24</td>\n",
       "    </tr>\n",
       "    <tr>\n",
       "      <th>19</th>\n",
       "      <td>Male</td>\n",
       "      <td>Chamalo71</td>\n",
       "      <td>30</td>\n",
       "      <td>30-34</td>\n",
       "    </tr>\n",
       "    <tr>\n",
       "      <th>20</th>\n",
       "      <td>Male</td>\n",
       "      <td>Iathenudil29</td>\n",
       "      <td>20</td>\n",
       "      <td>20-24</td>\n",
       "    </tr>\n",
       "    <tr>\n",
       "      <th>21</th>\n",
       "      <td>Male</td>\n",
       "      <td>Phiarithdeu40</td>\n",
       "      <td>20</td>\n",
       "      <td>20-24</td>\n",
       "    </tr>\n",
       "    <tr>\n",
       "      <th>22</th>\n",
       "      <td>Other / Non-Disclosed</td>\n",
       "      <td>Siarithria38</td>\n",
       "      <td>38</td>\n",
       "      <td>35-39</td>\n",
       "    </tr>\n",
       "    <tr>\n",
       "      <th>23</th>\n",
       "      <td>Male</td>\n",
       "      <td>Eyrian71</td>\n",
       "      <td>40</td>\n",
       "      <td>40+</td>\n",
       "    </tr>\n",
       "    <tr>\n",
       "      <th>24</th>\n",
       "      <td>Male</td>\n",
       "      <td>Siala43</td>\n",
       "      <td>30</td>\n",
       "      <td>30-34</td>\n",
       "    </tr>\n",
       "    <tr>\n",
       "      <th>25</th>\n",
       "      <td>Male</td>\n",
       "      <td>Lisirra87</td>\n",
       "      <td>29</td>\n",
       "      <td>25-29</td>\n",
       "    </tr>\n",
       "    <tr>\n",
       "      <th>26</th>\n",
       "      <td>Male</td>\n",
       "      <td>Lirtossa84</td>\n",
       "      <td>11</td>\n",
       "      <td>10-14</td>\n",
       "    </tr>\n",
       "    <tr>\n",
       "      <th>27</th>\n",
       "      <td>Male</td>\n",
       "      <td>Eusri44</td>\n",
       "      <td>7</td>\n",
       "      <td>&lt;10</td>\n",
       "    </tr>\n",
       "    <tr>\n",
       "      <th>28</th>\n",
       "      <td>Male</td>\n",
       "      <td>Aela59</td>\n",
       "      <td>21</td>\n",
       "      <td>20-24</td>\n",
       "    </tr>\n",
       "    <tr>\n",
       "      <th>29</th>\n",
       "      <td>Male</td>\n",
       "      <td>Tyida79</td>\n",
       "      <td>24</td>\n",
       "      <td>20-24</td>\n",
       "    </tr>\n",
       "    <tr>\n",
       "      <th>...</th>\n",
       "      <td>...</td>\n",
       "      <td>...</td>\n",
       "      <td>...</td>\n",
       "      <td>...</td>\n",
       "    </tr>\n",
       "    <tr>\n",
       "      <th>750</th>\n",
       "      <td>Male</td>\n",
       "      <td>Iljask75</td>\n",
       "      <td>22</td>\n",
       "      <td>20-24</td>\n",
       "    </tr>\n",
       "    <tr>\n",
       "      <th>751</th>\n",
       "      <td>Male</td>\n",
       "      <td>Lisjaskan36</td>\n",
       "      <td>11</td>\n",
       "      <td>10-14</td>\n",
       "    </tr>\n",
       "    <tr>\n",
       "      <th>752</th>\n",
       "      <td>Male</td>\n",
       "      <td>Mindjasksya61</td>\n",
       "      <td>17</td>\n",
       "      <td>15-19</td>\n",
       "    </tr>\n",
       "    <tr>\n",
       "      <th>753</th>\n",
       "      <td>Male</td>\n",
       "      <td>Frichirranya75</td>\n",
       "      <td>36</td>\n",
       "      <td>35-39</td>\n",
       "    </tr>\n",
       "    <tr>\n",
       "      <th>754</th>\n",
       "      <td>Female</td>\n",
       "      <td>Pheosurllorin41</td>\n",
       "      <td>23</td>\n",
       "      <td>20-24</td>\n",
       "    </tr>\n",
       "    <tr>\n",
       "      <th>755</th>\n",
       "      <td>Male</td>\n",
       "      <td>Raesty92</td>\n",
       "      <td>12</td>\n",
       "      <td>10-14</td>\n",
       "    </tr>\n",
       "    <tr>\n",
       "      <th>756</th>\n",
       "      <td>Male</td>\n",
       "      <td>Ilast79</td>\n",
       "      <td>20</td>\n",
       "      <td>20-24</td>\n",
       "    </tr>\n",
       "    <tr>\n",
       "      <th>757</th>\n",
       "      <td>Male</td>\n",
       "      <td>Eratiel90</td>\n",
       "      <td>18</td>\n",
       "      <td>15-19</td>\n",
       "    </tr>\n",
       "    <tr>\n",
       "      <th>758</th>\n",
       "      <td>Male</td>\n",
       "      <td>Iral74</td>\n",
       "      <td>21</td>\n",
       "      <td>20-24</td>\n",
       "    </tr>\n",
       "    <tr>\n",
       "      <th>759</th>\n",
       "      <td>Male</td>\n",
       "      <td>Tyaelorap29</td>\n",
       "      <td>25</td>\n",
       "      <td>25-29</td>\n",
       "    </tr>\n",
       "    <tr>\n",
       "      <th>760</th>\n",
       "      <td>Male</td>\n",
       "      <td>Aithelis62</td>\n",
       "      <td>21</td>\n",
       "      <td>20-24</td>\n",
       "    </tr>\n",
       "    <tr>\n",
       "      <th>761</th>\n",
       "      <td>Male</td>\n",
       "      <td>Assim27</td>\n",
       "      <td>45</td>\n",
       "      <td>40+</td>\n",
       "    </tr>\n",
       "    <tr>\n",
       "      <th>762</th>\n",
       "      <td>Male</td>\n",
       "      <td>Asur53</td>\n",
       "      <td>26</td>\n",
       "      <td>25-29</td>\n",
       "    </tr>\n",
       "    <tr>\n",
       "      <th>763</th>\n",
       "      <td>Male</td>\n",
       "      <td>Lassilsala30</td>\n",
       "      <td>21</td>\n",
       "      <td>20-24</td>\n",
       "    </tr>\n",
       "    <tr>\n",
       "      <th>764</th>\n",
       "      <td>Male</td>\n",
       "      <td>Saedaiphos46</td>\n",
       "      <td>18</td>\n",
       "      <td>15-19</td>\n",
       "    </tr>\n",
       "    <tr>\n",
       "      <th>765</th>\n",
       "      <td>Male</td>\n",
       "      <td>Irith83</td>\n",
       "      <td>18</td>\n",
       "      <td>15-19</td>\n",
       "    </tr>\n",
       "    <tr>\n",
       "      <th>766</th>\n",
       "      <td>Male</td>\n",
       "      <td>Aelastirin39</td>\n",
       "      <td>23</td>\n",
       "      <td>20-24</td>\n",
       "    </tr>\n",
       "    <tr>\n",
       "      <th>767</th>\n",
       "      <td>Female</td>\n",
       "      <td>Ilmol66</td>\n",
       "      <td>8</td>\n",
       "      <td>&lt;10</td>\n",
       "    </tr>\n",
       "    <tr>\n",
       "      <th>768</th>\n",
       "      <td>Male</td>\n",
       "      <td>Assassasta79</td>\n",
       "      <td>38</td>\n",
       "      <td>35-39</td>\n",
       "    </tr>\n",
       "    <tr>\n",
       "      <th>769</th>\n",
       "      <td>Male</td>\n",
       "      <td>Ilosian36</td>\n",
       "      <td>15</td>\n",
       "      <td>15-19</td>\n",
       "    </tr>\n",
       "    <tr>\n",
       "      <th>770</th>\n",
       "      <td>Male</td>\n",
       "      <td>Lirtosia63</td>\n",
       "      <td>34</td>\n",
       "      <td>30-34</td>\n",
       "    </tr>\n",
       "    <tr>\n",
       "      <th>771</th>\n",
       "      <td>Male</td>\n",
       "      <td>Iskossasda43</td>\n",
       "      <td>16</td>\n",
       "      <td>15-19</td>\n",
       "    </tr>\n",
       "    <tr>\n",
       "      <th>772</th>\n",
       "      <td>Male</td>\n",
       "      <td>Asur53</td>\n",
       "      <td>26</td>\n",
       "      <td>25-29</td>\n",
       "    </tr>\n",
       "    <tr>\n",
       "      <th>773</th>\n",
       "      <td>Male</td>\n",
       "      <td>Hala31</td>\n",
       "      <td>21</td>\n",
       "      <td>20-24</td>\n",
       "    </tr>\n",
       "    <tr>\n",
       "      <th>774</th>\n",
       "      <td>Male</td>\n",
       "      <td>Jiskjask80</td>\n",
       "      <td>11</td>\n",
       "      <td>10-14</td>\n",
       "    </tr>\n",
       "    <tr>\n",
       "      <th>775</th>\n",
       "      <td>Female</td>\n",
       "      <td>Aethedru70</td>\n",
       "      <td>21</td>\n",
       "      <td>20-24</td>\n",
       "    </tr>\n",
       "    <tr>\n",
       "      <th>776</th>\n",
       "      <td>Male</td>\n",
       "      <td>Iral74</td>\n",
       "      <td>21</td>\n",
       "      <td>20-24</td>\n",
       "    </tr>\n",
       "    <tr>\n",
       "      <th>777</th>\n",
       "      <td>Male</td>\n",
       "      <td>Yathecal72</td>\n",
       "      <td>20</td>\n",
       "      <td>20-24</td>\n",
       "    </tr>\n",
       "    <tr>\n",
       "      <th>778</th>\n",
       "      <td>Male</td>\n",
       "      <td>Sisur91</td>\n",
       "      <td>7</td>\n",
       "      <td>&lt;10</td>\n",
       "    </tr>\n",
       "    <tr>\n",
       "      <th>779</th>\n",
       "      <td>Male</td>\n",
       "      <td>Ennrian78</td>\n",
       "      <td>24</td>\n",
       "      <td>20-24</td>\n",
       "    </tr>\n",
       "  </tbody>\n",
       "</table>\n",
       "<p>780 rows × 4 columns</p>\n",
       "</div>"
      ],
      "text/plain": [
       "                    Gender               SN  Age Age Ranges\n",
       "0                     Male          Lisim78   20      20-24\n",
       "1                     Male      Lisovynya38   40        40+\n",
       "2                     Male       Ithergue48   24      20-24\n",
       "3                     Male    Chamassasya86   24      20-24\n",
       "4                     Male        Iskosia90   23      20-24\n",
       "5                     Male          Yalae81   22      20-24\n",
       "6                     Male        Itheria73   36      35-39\n",
       "7                     Male      Iskjaskst81   20      20-24\n",
       "8                     Male        Undjask33   22      20-24\n",
       "9    Other / Non-Disclosed      Chanosian48   35      35-39\n",
       "10                    Male        Inguron55   23      20-24\n",
       "11                    Male     Haisrisuir60   23      20-24\n",
       "12                    Male     Saelaephos52   21      20-24\n",
       "13                    Male      Assjaskan73   22      20-24\n",
       "14                    Male      Saesrideu94   35      35-39\n",
       "15                  Female        Lisassa64   21      20-24\n",
       "16                    Male        Lisirra25   20      20-24\n",
       "17                    Male        Zontibe81   21      20-24\n",
       "18                  Female        Reunasu60   22      20-24\n",
       "19                    Male        Chamalo71   30      30-34\n",
       "20                    Male     Iathenudil29   20      20-24\n",
       "21                    Male    Phiarithdeu40   20      20-24\n",
       "22   Other / Non-Disclosed     Siarithria38   38      35-39\n",
       "23                    Male         Eyrian71   40        40+\n",
       "24                    Male          Siala43   30      30-34\n",
       "25                    Male        Lisirra87   29      25-29\n",
       "26                    Male       Lirtossa84   11      10-14\n",
       "27                    Male          Eusri44    7        <10\n",
       "28                    Male           Aela59   21      20-24\n",
       "29                    Male          Tyida79   24      20-24\n",
       "..                     ...              ...  ...        ...\n",
       "750                   Male         Iljask75   22      20-24\n",
       "751                   Male      Lisjaskan36   11      10-14\n",
       "752                   Male    Mindjasksya61   17      15-19\n",
       "753                   Male   Frichirranya75   36      35-39\n",
       "754                 Female  Pheosurllorin41   23      20-24\n",
       "755                   Male         Raesty92   12      10-14\n",
       "756                   Male          Ilast79   20      20-24\n",
       "757                   Male        Eratiel90   18      15-19\n",
       "758                   Male           Iral74   21      20-24\n",
       "759                   Male      Tyaelorap29   25      25-29\n",
       "760                   Male       Aithelis62   21      20-24\n",
       "761                   Male          Assim27   45        40+\n",
       "762                   Male           Asur53   26      25-29\n",
       "763                   Male     Lassilsala30   21      20-24\n",
       "764                   Male     Saedaiphos46   18      15-19\n",
       "765                   Male          Irith83   18      15-19\n",
       "766                   Male     Aelastirin39   23      20-24\n",
       "767                 Female          Ilmol66    8        <10\n",
       "768                   Male     Assassasta79   38      35-39\n",
       "769                   Male        Ilosian36   15      15-19\n",
       "770                   Male       Lirtosia63   34      30-34\n",
       "771                   Male     Iskossasda43   16      15-19\n",
       "772                   Male           Asur53   26      25-29\n",
       "773                   Male           Hala31   21      20-24\n",
       "774                   Male       Jiskjask80   11      10-14\n",
       "775                 Female       Aethedru70   21      20-24\n",
       "776                   Male           Iral74   21      20-24\n",
       "777                   Male       Yathecal72   20      20-24\n",
       "778                   Male          Sisur91    7        <10\n",
       "779                   Male        Ennrian78   24      20-24\n",
       "\n",
       "[780 rows x 4 columns]"
      ]
     },
     "execution_count": 32,
     "metadata": {},
     "output_type": "execute_result"
    }
   ],
   "source": [
    "#create bins\n",
    "bins = [0, 9.9, 14.9, 19.9, 24.9, 29.9, 34.9, 39.9, 9999]\n",
    "\n",
    "group_names = [\"<10\", \"10-14\", \"15-19\", \"20-24\", \"25-29\", \"30-34\", \"35-39\", \"40+\"]\n",
    "\n",
    "player_demographics[\"Age Ranges\"] = pd.cut(purchase_data[\"Age\"], bins, labels=group_names)\n",
    "player_demographics\n"
   ]
  },
  {
   "cell_type": "code",
   "execution_count": 31,
   "metadata": {},
   "outputs": [
    {
     "data": {
      "text/plain": [
       "20-24    365\n",
       "15-19    136\n",
       "25-29    101\n",
       "30-34     73\n",
       "35-39     41\n",
       "10-14     28\n",
       "<10       23\n",
       "40+       13\n",
       "Name: Age Ranges, dtype: int64"
      ]
     },
     "execution_count": 31,
     "metadata": {},
     "output_type": "execute_result"
    }
   ],
   "source": [
    "age_demographics_totals = player_demographics[\"Age Ranges\"].value_counts()\n",
    "age_demographics_totals"
   ]
  },
  {
   "cell_type": "code",
   "execution_count": 36,
   "metadata": {},
   "outputs": [
    {
     "data": {
      "text/plain": [
       "20-24    63.368056\n",
       "15-19    23.611111\n",
       "25-29    17.534722\n",
       "30-34    12.673611\n",
       "35-39     7.118056\n",
       "10-14     4.861111\n",
       "<10       3.993056\n",
       "40+       2.256944\n",
       "Name: Age Ranges, dtype: float64"
      ]
     },
     "execution_count": 36,
     "metadata": {},
     "output_type": "execute_result"
    }
   ],
   "source": [
    "age_demographics_percents = age_demographics_totals / 576 * 100\n",
    "age_demographics_percents"
   ]
  },
  {
   "cell_type": "code",
   "execution_count": 45,
   "metadata": {},
   "outputs": [
    {
     "data": {
      "text/html": [
       "<div>\n",
       "<style scoped>\n",
       "    .dataframe tbody tr th:only-of-type {\n",
       "        vertical-align: middle;\n",
       "    }\n",
       "\n",
       "    .dataframe tbody tr th {\n",
       "        vertical-align: top;\n",
       "    }\n",
       "\n",
       "    .dataframe thead th {\n",
       "        text-align: right;\n",
       "    }\n",
       "</style>\n",
       "<table border=\"1\" class=\"dataframe\">\n",
       "  <thead>\n",
       "    <tr style=\"text-align: right;\">\n",
       "      <th></th>\n",
       "      <th>Total Count</th>\n",
       "      <th>Percentage of Players</th>\n",
       "    </tr>\n",
       "  </thead>\n",
       "  <tbody>\n",
       "    <tr>\n",
       "      <th>&lt;10</th>\n",
       "      <td>23</td>\n",
       "      <td>3.993056</td>\n",
       "    </tr>\n",
       "    <tr>\n",
       "      <th>10-14</th>\n",
       "      <td>28</td>\n",
       "      <td>4.861111</td>\n",
       "    </tr>\n",
       "    <tr>\n",
       "      <th>15-19</th>\n",
       "      <td>136</td>\n",
       "      <td>23.611111</td>\n",
       "    </tr>\n",
       "    <tr>\n",
       "      <th>20-24</th>\n",
       "      <td>365</td>\n",
       "      <td>63.368056</td>\n",
       "    </tr>\n",
       "    <tr>\n",
       "      <th>25-29</th>\n",
       "      <td>101</td>\n",
       "      <td>17.534722</td>\n",
       "    </tr>\n",
       "    <tr>\n",
       "      <th>30-34</th>\n",
       "      <td>73</td>\n",
       "      <td>12.673611</td>\n",
       "    </tr>\n",
       "    <tr>\n",
       "      <th>35-39</th>\n",
       "      <td>41</td>\n",
       "      <td>7.118056</td>\n",
       "    </tr>\n",
       "    <tr>\n",
       "      <th>40+</th>\n",
       "      <td>13</td>\n",
       "      <td>2.256944</td>\n",
       "    </tr>\n",
       "  </tbody>\n",
       "</table>\n",
       "</div>"
      ],
      "text/plain": [
       "       Total Count  Percentage of Players\n",
       "<10             23               3.993056\n",
       "10-14           28               4.861111\n",
       "15-19          136              23.611111\n",
       "20-24          365              63.368056\n",
       "25-29          101              17.534722\n",
       "30-34           73              12.673611\n",
       "35-39           41               7.118056\n",
       "40+             13               2.256944"
      ]
     },
     "execution_count": 45,
     "metadata": {},
     "output_type": "execute_result"
    }
   ],
   "source": [
    "age_demographics_df = pd.DataFrame({\"Total Count\": age_demographics_totals, \"Percentage of Players\": age_demographics_percents})\n",
    "age_demographics_df.sort_index(axis=0)"
   ]
  },
  {
   "cell_type": "markdown",
   "metadata": {},
   "source": [
    "## Purchasing Analysis (Age)"
   ]
  },
  {
   "cell_type": "markdown",
   "metadata": {},
   "source": [
    "* Bin the purchase_data data frame by age\n",
    "\n",
    "\n",
    "* Run basic calculations to obtain purchase count, avg. purchase price, avg. purchase total per person etc. in the table below\n",
    "\n",
    "\n",
    "* Create a summary data frame to hold the results\n",
    "\n",
    "\n",
    "* Optional: give the displayed data cleaner formatting\n",
    "\n",
    "\n",
    "* Display the summary data frame"
   ]
  },
  {
   "cell_type": "code",
   "execution_count": 48,
   "metadata": {},
   "outputs": [
    {
     "data": {
      "text/html": [
       "<div>\n",
       "<style scoped>\n",
       "    .dataframe tbody tr th:only-of-type {\n",
       "        vertical-align: middle;\n",
       "    }\n",
       "\n",
       "    .dataframe tbody tr th {\n",
       "        vertical-align: top;\n",
       "    }\n",
       "\n",
       "    .dataframe thead th {\n",
       "        text-align: right;\n",
       "    }\n",
       "</style>\n",
       "<table border=\"1\" class=\"dataframe\">\n",
       "  <thead>\n",
       "    <tr style=\"text-align: right;\">\n",
       "      <th></th>\n",
       "      <th>Purchase ID</th>\n",
       "      <th>SN</th>\n",
       "      <th>Age</th>\n",
       "      <th>Gender</th>\n",
       "      <th>Item ID</th>\n",
       "      <th>Item Name</th>\n",
       "      <th>Price</th>\n",
       "      <th>Age Ranges</th>\n",
       "    </tr>\n",
       "  </thead>\n",
       "  <tbody>\n",
       "    <tr>\n",
       "      <th>0</th>\n",
       "      <td>0</td>\n",
       "      <td>Lisim78</td>\n",
       "      <td>20</td>\n",
       "      <td>Male</td>\n",
       "      <td>108</td>\n",
       "      <td>Extraction, Quickblade Of Trembling Hands</td>\n",
       "      <td>3.53</td>\n",
       "      <td>20-24</td>\n",
       "    </tr>\n",
       "    <tr>\n",
       "      <th>1</th>\n",
       "      <td>1</td>\n",
       "      <td>Lisovynya38</td>\n",
       "      <td>40</td>\n",
       "      <td>Male</td>\n",
       "      <td>143</td>\n",
       "      <td>Frenzied Scimitar</td>\n",
       "      <td>1.56</td>\n",
       "      <td>40+</td>\n",
       "    </tr>\n",
       "    <tr>\n",
       "      <th>2</th>\n",
       "      <td>2</td>\n",
       "      <td>Ithergue48</td>\n",
       "      <td>24</td>\n",
       "      <td>Male</td>\n",
       "      <td>92</td>\n",
       "      <td>Final Critic</td>\n",
       "      <td>4.88</td>\n",
       "      <td>20-24</td>\n",
       "    </tr>\n",
       "    <tr>\n",
       "      <th>3</th>\n",
       "      <td>3</td>\n",
       "      <td>Chamassasya86</td>\n",
       "      <td>24</td>\n",
       "      <td>Male</td>\n",
       "      <td>100</td>\n",
       "      <td>Blindscythe</td>\n",
       "      <td>3.27</td>\n",
       "      <td>20-24</td>\n",
       "    </tr>\n",
       "    <tr>\n",
       "      <th>4</th>\n",
       "      <td>4</td>\n",
       "      <td>Iskosia90</td>\n",
       "      <td>23</td>\n",
       "      <td>Male</td>\n",
       "      <td>131</td>\n",
       "      <td>Fury</td>\n",
       "      <td>1.44</td>\n",
       "      <td>20-24</td>\n",
       "    </tr>\n",
       "  </tbody>\n",
       "</table>\n",
       "</div>"
      ],
      "text/plain": [
       "   Purchase ID             SN  Age Gender  Item ID  \\\n",
       "0            0        Lisim78   20   Male      108   \n",
       "1            1    Lisovynya38   40   Male      143   \n",
       "2            2     Ithergue48   24   Male       92   \n",
       "3            3  Chamassasya86   24   Male      100   \n",
       "4            4      Iskosia90   23   Male      131   \n",
       "\n",
       "                                   Item Name  Price Age Ranges  \n",
       "0  Extraction, Quickblade Of Trembling Hands   3.53      20-24  \n",
       "1                          Frenzied Scimitar   1.56        40+  \n",
       "2                               Final Critic   4.88      20-24  \n",
       "3                                Blindscythe   3.27      20-24  \n",
       "4                                       Fury   1.44      20-24  "
      ]
     },
     "execution_count": 48,
     "metadata": {},
     "output_type": "execute_result"
    }
   ],
   "source": [
    "purchase_data[\"Age Ranges\"] = pd.cut(purchase_data[\"Age\"], bins, labels=group_names)\n",
    "purchase_data.head()"
   ]
  },
  {
   "cell_type": "code",
   "execution_count": 49,
   "metadata": {},
   "outputs": [
    {
     "data": {
      "text/plain": [
       "Age Ranges\n",
       "<10        77.13\n",
       "10-14      82.78\n",
       "15-19     412.89\n",
       "20-24    1114.06\n",
       "25-29     293.00\n",
       "30-34     214.00\n",
       "35-39     147.67\n",
       "40+        38.24\n",
       "Name: Total Purchase Value, dtype: float64"
      ]
     },
     "execution_count": 49,
     "metadata": {},
     "output_type": "execute_result"
    }
   ],
   "source": [
    "age_purchase_total = purchase_data.groupby([\"Age Ranges\"]).sum()[\"Price\"].rename(\"Total Purchase Value\")\n",
    "age_purchase_total"
   ]
  },
  {
   "cell_type": "code",
   "execution_count": 50,
   "metadata": {},
   "outputs": [
    {
     "data": {
      "text/plain": [
       "Age Ranges\n",
       "<10      3.353478\n",
       "10-14    2.956429\n",
       "15-19    3.035956\n",
       "20-24    3.052219\n",
       "25-29    2.900990\n",
       "30-34    2.931507\n",
       "35-39    3.601707\n",
       "40+      2.941538\n",
       "Name: Average Purchase Price, dtype: float64"
      ]
     },
     "execution_count": 50,
     "metadata": {},
     "output_type": "execute_result"
    }
   ],
   "source": [
    "age_average = purchase_data.groupby([\"Age Ranges\"]).mean()[\"Price\"].rename(\"Average Purchase Price\")\n",
    "age_average\n"
   ]
  },
  {
   "cell_type": "code",
   "execution_count": 51,
   "metadata": {},
   "outputs": [
    {
     "data": {
      "text/plain": [
       "Age Ranges\n",
       "<10       23\n",
       "10-14     28\n",
       "15-19    136\n",
       "20-24    365\n",
       "25-29    101\n",
       "30-34     73\n",
       "35-39     41\n",
       "40+       13\n",
       "Name: Purchase Count, dtype: int64"
      ]
     },
     "execution_count": 51,
     "metadata": {},
     "output_type": "execute_result"
    }
   ],
   "source": [
    "age_counts = purchase_data.groupby([\"Age Ranges\"]).count()[\"Price\"].rename(\"Purchase Count\")\n",
    "age_counts"
   ]
  },
  {
   "cell_type": "code",
   "execution_count": 56,
   "metadata": {},
   "outputs": [
    {
     "data": {
      "text/plain": [
       "10-14    2.956429\n",
       "15-19    3.035956\n",
       "20-24    3.052219\n",
       "25-29    2.900990\n",
       "30-34    2.931507\n",
       "35-39    3.601707\n",
       "40+      2.941538\n",
       "<10      3.353478\n",
       "dtype: float64"
      ]
     },
     "execution_count": 56,
     "metadata": {},
     "output_type": "execute_result"
    }
   ],
   "source": [
    "avg_purchase_total = age_purchase_total / age_demographics_df[\"Total Count\"]\n",
    "avg_purchase_total\n"
   ]
  },
  {
   "cell_type": "code",
   "execution_count": 57,
   "metadata": {},
   "outputs": [
    {
     "data": {
      "text/html": [
       "<div>\n",
       "<style scoped>\n",
       "    .dataframe tbody tr th:only-of-type {\n",
       "        vertical-align: middle;\n",
       "    }\n",
       "\n",
       "    .dataframe tbody tr th {\n",
       "        vertical-align: top;\n",
       "    }\n",
       "\n",
       "    .dataframe thead th {\n",
       "        text-align: right;\n",
       "    }\n",
       "</style>\n",
       "<table border=\"1\" class=\"dataframe\">\n",
       "  <thead>\n",
       "    <tr style=\"text-align: right;\">\n",
       "      <th></th>\n",
       "      <th>Purchase Count</th>\n",
       "      <th>Average Purchase Price</th>\n",
       "      <th>Total Purchase Value</th>\n",
       "      <th>Avg Total Purchase per Person</th>\n",
       "    </tr>\n",
       "  </thead>\n",
       "  <tbody>\n",
       "    <tr>\n",
       "      <th>10-14</th>\n",
       "      <td>28</td>\n",
       "      <td>2.956429</td>\n",
       "      <td>82.78</td>\n",
       "      <td>2.956429</td>\n",
       "    </tr>\n",
       "    <tr>\n",
       "      <th>15-19</th>\n",
       "      <td>136</td>\n",
       "      <td>3.035956</td>\n",
       "      <td>412.89</td>\n",
       "      <td>3.035956</td>\n",
       "    </tr>\n",
       "    <tr>\n",
       "      <th>20-24</th>\n",
       "      <td>365</td>\n",
       "      <td>3.052219</td>\n",
       "      <td>1114.06</td>\n",
       "      <td>3.052219</td>\n",
       "    </tr>\n",
       "    <tr>\n",
       "      <th>25-29</th>\n",
       "      <td>101</td>\n",
       "      <td>2.900990</td>\n",
       "      <td>293.00</td>\n",
       "      <td>2.900990</td>\n",
       "    </tr>\n",
       "    <tr>\n",
       "      <th>30-34</th>\n",
       "      <td>73</td>\n",
       "      <td>2.931507</td>\n",
       "      <td>214.00</td>\n",
       "      <td>2.931507</td>\n",
       "    </tr>\n",
       "    <tr>\n",
       "      <th>35-39</th>\n",
       "      <td>41</td>\n",
       "      <td>3.601707</td>\n",
       "      <td>147.67</td>\n",
       "      <td>3.601707</td>\n",
       "    </tr>\n",
       "    <tr>\n",
       "      <th>40+</th>\n",
       "      <td>13</td>\n",
       "      <td>2.941538</td>\n",
       "      <td>38.24</td>\n",
       "      <td>2.941538</td>\n",
       "    </tr>\n",
       "    <tr>\n",
       "      <th>&lt;10</th>\n",
       "      <td>23</td>\n",
       "      <td>3.353478</td>\n",
       "      <td>77.13</td>\n",
       "      <td>3.353478</td>\n",
       "    </tr>\n",
       "  </tbody>\n",
       "</table>\n",
       "</div>"
      ],
      "text/plain": [
       "       Purchase Count  Average Purchase Price  Total Purchase Value  \\\n",
       "10-14              28                2.956429                 82.78   \n",
       "15-19             136                3.035956                412.89   \n",
       "20-24             365                3.052219               1114.06   \n",
       "25-29             101                2.900990                293.00   \n",
       "30-34              73                2.931507                214.00   \n",
       "35-39              41                3.601707                147.67   \n",
       "40+                13                2.941538                 38.24   \n",
       "<10                23                3.353478                 77.13   \n",
       "\n",
       "       Avg Total Purchase per Person  \n",
       "10-14                       2.956429  \n",
       "15-19                       3.035956  \n",
       "20-24                       3.052219  \n",
       "25-29                       2.900990  \n",
       "30-34                       2.931507  \n",
       "35-39                       3.601707  \n",
       "40+                         2.941538  \n",
       "<10                         3.353478  "
      ]
     },
     "execution_count": 57,
     "metadata": {},
     "output_type": "execute_result"
    }
   ],
   "source": [
    "age_data = pd.DataFrame({\"Purchase Count\": age_counts, \"Average Purchase Price\": age_average, \"Total Purchase Value\": age_purchase_total, \"Avg Total Purchase per Person\": avg_purchase_total})\n",
    "age_data"
   ]
  },
  {
   "cell_type": "markdown",
   "metadata": {},
   "source": [
    "## Top Spenders"
   ]
  },
  {
   "cell_type": "markdown",
   "metadata": {},
   "source": [
    "* Run basic calculations to obtain the results in the table below\n",
    "\n",
    "\n",
    "* Create a summary data frame to hold the results\n",
    "\n",
    "\n",
    "* Sort the total purchase value column in descending order\n",
    "\n",
    "\n",
    "* Optional: give the displayed data cleaner formatting\n",
    "\n",
    "\n",
    "* Display a preview of the summary data frame\n",
    "\n"
   ]
  },
  {
   "cell_type": "code",
   "execution_count": 72,
   "metadata": {},
   "outputs": [
    {
     "data": {
      "text/plain": [
       "SN\n",
       "Yathecal82       3\n",
       "Yathedeu43       2\n",
       "Yoishirrala98    1\n",
       "Zhisrisu83       2\n",
       "Zontibe81        3\n",
       "Name: Purchase Count, dtype: int64"
      ]
     },
     "execution_count": 72,
     "metadata": {},
     "output_type": "execute_result"
    }
   ],
   "source": [
    "user_count = purchase_data.groupby([\"SN\"]).count()[\"Price\"].rename(\"Purchase Count\")\n",
    "user_count.tail()"
   ]
  },
  {
   "cell_type": "code",
   "execution_count": 61,
   "metadata": {},
   "outputs": [
    {
     "data": {
      "text/plain": [
       "SN\n",
       "Adairialis76    2.28\n",
       "Adastirin33     4.48\n",
       "Aeda94          4.91\n",
       "Aela59          4.32\n",
       "Aelaria33       1.79\n",
       "Name: Average Purchase Price, dtype: float64"
      ]
     },
     "execution_count": 61,
     "metadata": {},
     "output_type": "execute_result"
    }
   ],
   "source": [
    "user_average = purchase_data.groupby([\"SN\"]).mean()[\"Price\"].rename(\"Average Purchase Price\")\n",
    "user_average.head()"
   ]
  },
  {
   "cell_type": "code",
   "execution_count": 63,
   "metadata": {},
   "outputs": [
    {
     "data": {
      "text/plain": [
       "SN\n",
       "Yathecal82       6.22\n",
       "Yathedeu43       6.02\n",
       "Yoishirrala98    4.58\n",
       "Zhisrisu83       7.89\n",
       "Zontibe81        8.03\n",
       "Name: Total Purchase Value, dtype: float64"
      ]
     },
     "execution_count": 63,
     "metadata": {},
     "output_type": "execute_result"
    }
   ],
   "source": [
    "user_total = purchase_data.groupby([\"SN\"]).sum()[\"Price\"].rename(\"Total Purchase Value\")\n",
    "user_total.tail()"
   ]
  },
  {
   "cell_type": "code",
   "execution_count": 76,
   "metadata": {},
   "outputs": [
    {
     "data": {
      "text/html": [
       "<div>\n",
       "<style scoped>\n",
       "    .dataframe tbody tr th:only-of-type {\n",
       "        vertical-align: middle;\n",
       "    }\n",
       "\n",
       "    .dataframe tbody tr th {\n",
       "        vertical-align: top;\n",
       "    }\n",
       "\n",
       "    .dataframe thead th {\n",
       "        text-align: right;\n",
       "    }\n",
       "</style>\n",
       "<table border=\"1\" class=\"dataframe\">\n",
       "  <thead>\n",
       "    <tr style=\"text-align: right;\">\n",
       "      <th></th>\n",
       "      <th>Total Purchase Value</th>\n",
       "      <th>Average Purchase Price</th>\n",
       "      <th>Purchase Count</th>\n",
       "    </tr>\n",
       "    <tr>\n",
       "      <th>SN</th>\n",
       "      <th></th>\n",
       "      <th></th>\n",
       "      <th></th>\n",
       "    </tr>\n",
       "  </thead>\n",
       "  <tbody>\n",
       "    <tr>\n",
       "      <th>Adairialis76</th>\n",
       "      <td>2.28</td>\n",
       "      <td>2.28</td>\n",
       "      <td>1</td>\n",
       "    </tr>\n",
       "    <tr>\n",
       "      <th>Adastirin33</th>\n",
       "      <td>4.48</td>\n",
       "      <td>4.48</td>\n",
       "      <td>1</td>\n",
       "    </tr>\n",
       "    <tr>\n",
       "      <th>Aeda94</th>\n",
       "      <td>4.91</td>\n",
       "      <td>4.91</td>\n",
       "      <td>1</td>\n",
       "    </tr>\n",
       "    <tr>\n",
       "      <th>Aela59</th>\n",
       "      <td>4.32</td>\n",
       "      <td>4.32</td>\n",
       "      <td>1</td>\n",
       "    </tr>\n",
       "    <tr>\n",
       "      <th>Aelaria33</th>\n",
       "      <td>1.79</td>\n",
       "      <td>1.79</td>\n",
       "      <td>1</td>\n",
       "    </tr>\n",
       "  </tbody>\n",
       "</table>\n",
       "</div>"
      ],
      "text/plain": [
       "              Total Purchase Value  Average Purchase Price  Purchase Count\n",
       "SN                                                                        \n",
       "Adairialis76                  2.28                    2.28               1\n",
       "Adastirin33                   4.48                    4.48               1\n",
       "Aeda94                        4.91                    4.91               1\n",
       "Aela59                        4.32                    4.32               1\n",
       "Aelaria33                     1.79                    1.79               1"
      ]
     },
     "execution_count": 76,
     "metadata": {},
     "output_type": "execute_result"
    }
   ],
   "source": [
    "user_data = pd.DataFrame({\"Total Purchase Value\": user_total, \"Average Purchase Price\": user_average, \"Purchase Count\": user_count})\n",
    "user_data.head()"
   ]
  },
  {
   "cell_type": "code",
   "execution_count": 83,
   "metadata": {},
   "outputs": [
    {
     "data": {
      "text/html": [
       "<div>\n",
       "<style scoped>\n",
       "    .dataframe tbody tr th:only-of-type {\n",
       "        vertical-align: middle;\n",
       "    }\n",
       "\n",
       "    .dataframe tbody tr th {\n",
       "        vertical-align: top;\n",
       "    }\n",
       "\n",
       "    .dataframe thead th {\n",
       "        text-align: right;\n",
       "    }\n",
       "</style>\n",
       "<table border=\"1\" class=\"dataframe\">\n",
       "  <thead>\n",
       "    <tr style=\"text-align: right;\">\n",
       "      <th></th>\n",
       "      <th>Total Purchase Value</th>\n",
       "      <th>Average Purchase Price</th>\n",
       "      <th>Purchase Count</th>\n",
       "    </tr>\n",
       "    <tr>\n",
       "      <th>SN</th>\n",
       "      <th></th>\n",
       "      <th></th>\n",
       "      <th></th>\n",
       "    </tr>\n",
       "  </thead>\n",
       "  <tbody>\n",
       "    <tr>\n",
       "      <th>Lisosia93</th>\n",
       "      <td>18.96</td>\n",
       "      <td>3.792000</td>\n",
       "      <td>5</td>\n",
       "    </tr>\n",
       "    <tr>\n",
       "      <th>Idastidru52</th>\n",
       "      <td>15.45</td>\n",
       "      <td>3.862500</td>\n",
       "      <td>4</td>\n",
       "    </tr>\n",
       "    <tr>\n",
       "      <th>Chamjask73</th>\n",
       "      <td>13.83</td>\n",
       "      <td>4.610000</td>\n",
       "      <td>3</td>\n",
       "    </tr>\n",
       "    <tr>\n",
       "      <th>Iral74</th>\n",
       "      <td>13.62</td>\n",
       "      <td>3.405000</td>\n",
       "      <td>4</td>\n",
       "    </tr>\n",
       "    <tr>\n",
       "      <th>Iskadarya95</th>\n",
       "      <td>13.10</td>\n",
       "      <td>4.366667</td>\n",
       "      <td>3</td>\n",
       "    </tr>\n",
       "  </tbody>\n",
       "</table>\n",
       "</div>"
      ],
      "text/plain": [
       "             Total Purchase Value  Average Purchase Price  Purchase Count\n",
       "SN                                                                       \n",
       "Lisosia93                   18.96                3.792000               5\n",
       "Idastidru52                 15.45                3.862500               4\n",
       "Chamjask73                  13.83                4.610000               3\n",
       "Iral74                      13.62                3.405000               4\n",
       "Iskadarya95                 13.10                4.366667               3"
      ]
     },
     "execution_count": 83,
     "metadata": {},
     "output_type": "execute_result"
    }
   ],
   "source": [
    "user_sorted = user_data.sort_values(\"Total Purchase Value\", ascending=False)\n",
    "user_sorted.head()"
   ]
  },
  {
   "cell_type": "markdown",
   "metadata": {},
   "source": [
    "## Most Popular Items"
   ]
  },
  {
   "cell_type": "markdown",
   "metadata": {},
   "source": [
    "* Retrieve the Item ID, Item Name, and Item Price columns\n",
    "\n",
    "\n",
    "* Group by Item ID and Item Name. Perform calculations to obtain purchase count, item price, and total purchase value\n",
    "\n",
    "\n",
    "* Create a summary data frame to hold the results\n",
    "\n",
    "\n",
    "* Sort the purchase count column in descending order\n",
    "\n",
    "\n",
    "* Optional: give the displayed data cleaner formatting\n",
    "\n",
    "\n",
    "* Display a preview of the summary data frame\n",
    "\n"
   ]
  },
  {
   "cell_type": "code",
   "execution_count": 86,
   "metadata": {},
   "outputs": [
    {
     "data": {
      "text/html": [
       "<div>\n",
       "<style scoped>\n",
       "    .dataframe tbody tr th:only-of-type {\n",
       "        vertical-align: middle;\n",
       "    }\n",
       "\n",
       "    .dataframe tbody tr th {\n",
       "        vertical-align: top;\n",
       "    }\n",
       "\n",
       "    .dataframe thead th {\n",
       "        text-align: right;\n",
       "    }\n",
       "</style>\n",
       "<table border=\"1\" class=\"dataframe\">\n",
       "  <thead>\n",
       "    <tr style=\"text-align: right;\">\n",
       "      <th></th>\n",
       "      <th>Item ID</th>\n",
       "      <th>Item Name</th>\n",
       "      <th>Price</th>\n",
       "    </tr>\n",
       "  </thead>\n",
       "  <tbody>\n",
       "    <tr>\n",
       "      <th>0</th>\n",
       "      <td>108</td>\n",
       "      <td>Extraction, Quickblade Of Trembling Hands</td>\n",
       "      <td>3.53</td>\n",
       "    </tr>\n",
       "    <tr>\n",
       "      <th>1</th>\n",
       "      <td>143</td>\n",
       "      <td>Frenzied Scimitar</td>\n",
       "      <td>1.56</td>\n",
       "    </tr>\n",
       "    <tr>\n",
       "      <th>2</th>\n",
       "      <td>92</td>\n",
       "      <td>Final Critic</td>\n",
       "      <td>4.88</td>\n",
       "    </tr>\n",
       "    <tr>\n",
       "      <th>3</th>\n",
       "      <td>100</td>\n",
       "      <td>Blindscythe</td>\n",
       "      <td>3.27</td>\n",
       "    </tr>\n",
       "    <tr>\n",
       "      <th>4</th>\n",
       "      <td>131</td>\n",
       "      <td>Fury</td>\n",
       "      <td>1.44</td>\n",
       "    </tr>\n",
       "  </tbody>\n",
       "</table>\n",
       "</div>"
      ],
      "text/plain": [
       "   Item ID                                  Item Name  Price\n",
       "0      108  Extraction, Quickblade Of Trembling Hands   3.53\n",
       "1      143                          Frenzied Scimitar   1.56\n",
       "2       92                               Final Critic   4.88\n",
       "3      100                                Blindscythe   3.27\n",
       "4      131                                       Fury   1.44"
      ]
     },
     "execution_count": 86,
     "metadata": {},
     "output_type": "execute_result"
    }
   ],
   "source": [
    "item_data = purchase_data.loc[:,[\"Item ID\", \"Item Name\", \"Price\"]]\n",
    "item_data.head()"
   ]
  },
  {
   "cell_type": "code",
   "execution_count": 88,
   "metadata": {},
   "outputs": [
    {
     "data": {
      "text/plain": [
       "Item ID  Item Name         \n",
       "0        Splinter               5.12\n",
       "1        Crucifer               9.78\n",
       "2        Verdict               14.88\n",
       "3        Phantomlight          14.94\n",
       "4        Bloodlord's Fetish     8.50\n",
       "Name: Total Purchase Value, dtype: float64"
      ]
     },
     "execution_count": 88,
     "metadata": {},
     "output_type": "execute_result"
    }
   ],
   "source": [
    "total_item_purchase = item_data.groupby([\"Item ID\", \"Item Name\"]).sum()[\"Price\"].rename(\"Total Purchase Value\")\n",
    "total_item_purchase.head()"
   ]
  },
  {
   "cell_type": "code",
   "execution_count": 89,
   "metadata": {},
   "outputs": [
    {
     "data": {
      "text/plain": [
       "Item ID  Item Name         \n",
       "0        Splinter              1.28\n",
       "1        Crucifer              3.26\n",
       "2        Verdict               2.48\n",
       "3        Phantomlight          2.49\n",
       "4        Bloodlord's Fetish    1.70\n",
       "Name: Price, dtype: float64"
      ]
     },
     "execution_count": 89,
     "metadata": {},
     "output_type": "execute_result"
    }
   ],
   "source": [
    "average_item_purchase = item_data.groupby([\"Item ID\", \"Item Name\"]).mean()[\"Price\"]\n",
    "average_item_purchase.head()\n"
   ]
  },
  {
   "cell_type": "code",
   "execution_count": 90,
   "metadata": {},
   "outputs": [
    {
     "data": {
      "text/plain": [
       "Item ID  Item Name         \n",
       "0        Splinter              4\n",
       "1        Crucifer              3\n",
       "2        Verdict               6\n",
       "3        Phantomlight          6\n",
       "4        Bloodlord's Fetish    5\n",
       "Name: Purchase Count, dtype: int64"
      ]
     },
     "execution_count": 90,
     "metadata": {},
     "output_type": "execute_result"
    }
   ],
   "source": [
    "item_count = item_data.groupby([\"Item ID\", \"Item Name\"]).count()[\"Price\"].rename(\"Purchase Count\")\n",
    "item_count.head()\n"
   ]
  },
  {
   "cell_type": "code",
   "execution_count": 92,
   "metadata": {},
   "outputs": [
    {
     "data": {
      "text/html": [
       "<div>\n",
       "<style scoped>\n",
       "    .dataframe tbody tr th:only-of-type {\n",
       "        vertical-align: middle;\n",
       "    }\n",
       "\n",
       "    .dataframe tbody tr th {\n",
       "        vertical-align: top;\n",
       "    }\n",
       "\n",
       "    .dataframe thead th {\n",
       "        text-align: right;\n",
       "    }\n",
       "</style>\n",
       "<table border=\"1\" class=\"dataframe\">\n",
       "  <thead>\n",
       "    <tr style=\"text-align: right;\">\n",
       "      <th></th>\n",
       "      <th></th>\n",
       "      <th>Total Purchase Value</th>\n",
       "      <th>Item Price</th>\n",
       "      <th>Purchase Count</th>\n",
       "    </tr>\n",
       "    <tr>\n",
       "      <th>Item ID</th>\n",
       "      <th>Item Name</th>\n",
       "      <th></th>\n",
       "      <th></th>\n",
       "      <th></th>\n",
       "    </tr>\n",
       "  </thead>\n",
       "  <tbody>\n",
       "    <tr>\n",
       "      <th>0</th>\n",
       "      <th>Splinter</th>\n",
       "      <td>5.12</td>\n",
       "      <td>1.28</td>\n",
       "      <td>4</td>\n",
       "    </tr>\n",
       "    <tr>\n",
       "      <th>1</th>\n",
       "      <th>Crucifer</th>\n",
       "      <td>9.78</td>\n",
       "      <td>3.26</td>\n",
       "      <td>3</td>\n",
       "    </tr>\n",
       "    <tr>\n",
       "      <th>2</th>\n",
       "      <th>Verdict</th>\n",
       "      <td>14.88</td>\n",
       "      <td>2.48</td>\n",
       "      <td>6</td>\n",
       "    </tr>\n",
       "    <tr>\n",
       "      <th>3</th>\n",
       "      <th>Phantomlight</th>\n",
       "      <td>14.94</td>\n",
       "      <td>2.49</td>\n",
       "      <td>6</td>\n",
       "    </tr>\n",
       "    <tr>\n",
       "      <th>4</th>\n",
       "      <th>Bloodlord's Fetish</th>\n",
       "      <td>8.50</td>\n",
       "      <td>1.70</td>\n",
       "      <td>5</td>\n",
       "    </tr>\n",
       "  </tbody>\n",
       "</table>\n",
       "</div>"
      ],
      "text/plain": [
       "                            Total Purchase Value  Item Price  Purchase Count\n",
       "Item ID Item Name                                                           \n",
       "0       Splinter                            5.12        1.28               4\n",
       "1       Crucifer                            9.78        3.26               3\n",
       "2       Verdict                            14.88        2.48               6\n",
       "3       Phantomlight                       14.94        2.49               6\n",
       "4       Bloodlord's Fetish                  8.50        1.70               5"
      ]
     },
     "execution_count": 92,
     "metadata": {},
     "output_type": "execute_result"
    }
   ],
   "source": [
    "item_data_df = pd.DataFrame({\"Total Purchase Value\": total_item_purchase, \"Item Price\": average_item_purchase, \"Purchase Count\": item_count})\n",
    "item_data_df.head()"
   ]
  },
  {
   "cell_type": "code",
   "execution_count": 95,
   "metadata": {},
   "outputs": [
    {
     "data": {
      "text/html": [
       "<div>\n",
       "<style scoped>\n",
       "    .dataframe tbody tr th:only-of-type {\n",
       "        vertical-align: middle;\n",
       "    }\n",
       "\n",
       "    .dataframe tbody tr th {\n",
       "        vertical-align: top;\n",
       "    }\n",
       "\n",
       "    .dataframe thead th {\n",
       "        text-align: right;\n",
       "    }\n",
       "</style>\n",
       "<table border=\"1\" class=\"dataframe\">\n",
       "  <thead>\n",
       "    <tr style=\"text-align: right;\">\n",
       "      <th></th>\n",
       "      <th></th>\n",
       "      <th>Total Purchase Value</th>\n",
       "      <th>Item Price</th>\n",
       "      <th>Purchase Count</th>\n",
       "    </tr>\n",
       "    <tr>\n",
       "      <th>Item ID</th>\n",
       "      <th>Item Name</th>\n",
       "      <th></th>\n",
       "      <th></th>\n",
       "      <th></th>\n",
       "    </tr>\n",
       "  </thead>\n",
       "  <tbody>\n",
       "    <tr>\n",
       "      <th>178</th>\n",
       "      <th>Oathbreaker, Last Hope of the Breaking Storm</th>\n",
       "      <td>50.76</td>\n",
       "      <td>4.23</td>\n",
       "      <td>12</td>\n",
       "    </tr>\n",
       "    <tr>\n",
       "      <th>145</th>\n",
       "      <th>Fiery Glass Crusader</th>\n",
       "      <td>41.22</td>\n",
       "      <td>4.58</td>\n",
       "      <td>9</td>\n",
       "    </tr>\n",
       "    <tr>\n",
       "      <th>108</th>\n",
       "      <th>Extraction, Quickblade Of Trembling Hands</th>\n",
       "      <td>31.77</td>\n",
       "      <td>3.53</td>\n",
       "      <td>9</td>\n",
       "    </tr>\n",
       "    <tr>\n",
       "      <th>82</th>\n",
       "      <th>Nirvana</th>\n",
       "      <td>44.10</td>\n",
       "      <td>4.90</td>\n",
       "      <td>9</td>\n",
       "    </tr>\n",
       "    <tr>\n",
       "      <th>19</th>\n",
       "      <th>Pursuit, Cudgel of Necromancy</th>\n",
       "      <td>8.16</td>\n",
       "      <td>1.02</td>\n",
       "      <td>8</td>\n",
       "    </tr>\n",
       "  </tbody>\n",
       "</table>\n",
       "</div>"
      ],
      "text/plain": [
       "                                                      Total Purchase Value  \\\n",
       "Item ID Item Name                                                            \n",
       "178     Oathbreaker, Last Hope of the Breaking Storm                 50.76   \n",
       "145     Fiery Glass Crusader                                         41.22   \n",
       "108     Extraction, Quickblade Of Trembling Hands                    31.77   \n",
       "82      Nirvana                                                      44.10   \n",
       "19      Pursuit, Cudgel of Necromancy                                 8.16   \n",
       "\n",
       "                                                      Item Price  \\\n",
       "Item ID Item Name                                                  \n",
       "178     Oathbreaker, Last Hope of the Breaking Storm        4.23   \n",
       "145     Fiery Glass Crusader                                4.58   \n",
       "108     Extraction, Quickblade Of Trembling Hands           3.53   \n",
       "82      Nirvana                                             4.90   \n",
       "19      Pursuit, Cudgel of Necromancy                       1.02   \n",
       "\n",
       "                                                      Purchase Count  \n",
       "Item ID Item Name                                                     \n",
       "178     Oathbreaker, Last Hope of the Breaking Storm              12  \n",
       "145     Fiery Glass Crusader                                       9  \n",
       "108     Extraction, Quickblade Of Trembling Hands                  9  \n",
       "82      Nirvana                                                    9  \n",
       "19      Pursuit, Cudgel of Necromancy                              8  "
      ]
     },
     "execution_count": 95,
     "metadata": {},
     "output_type": "execute_result"
    }
   ],
   "source": [
    "item_data_count_sorted = item_data_df.sort_values(\"Purchase Count\", ascending=False)\n",
    "item_data_count_sorted.head()"
   ]
  },
  {
   "cell_type": "markdown",
   "metadata": {},
   "source": [
    "## Most Profitable Items"
   ]
  },
  {
   "cell_type": "markdown",
   "metadata": {},
   "source": [
    "* Sort the above table by total purchase value in descending order\n",
    "\n",
    "\n",
    "* Optional: give the displayed data cleaner formatting\n",
    "\n",
    "\n",
    "* Display a preview of the data frame\n",
    "\n"
   ]
  },
  {
   "cell_type": "code",
   "execution_count": 99,
   "metadata": {},
   "outputs": [
    {
     "data": {
      "text/html": [
       "<div>\n",
       "<style scoped>\n",
       "    .dataframe tbody tr th:only-of-type {\n",
       "        vertical-align: middle;\n",
       "    }\n",
       "\n",
       "    .dataframe tbody tr th {\n",
       "        vertical-align: top;\n",
       "    }\n",
       "\n",
       "    .dataframe thead th {\n",
       "        text-align: right;\n",
       "    }\n",
       "</style>\n",
       "<table border=\"1\" class=\"dataframe\">\n",
       "  <thead>\n",
       "    <tr style=\"text-align: right;\">\n",
       "      <th></th>\n",
       "      <th></th>\n",
       "      <th>Total Purchase Value</th>\n",
       "      <th>Item Price</th>\n",
       "      <th>Purchase Count</th>\n",
       "    </tr>\n",
       "    <tr>\n",
       "      <th>Item ID</th>\n",
       "      <th>Item Name</th>\n",
       "      <th></th>\n",
       "      <th></th>\n",
       "      <th></th>\n",
       "    </tr>\n",
       "  </thead>\n",
       "  <tbody>\n",
       "    <tr>\n",
       "      <th>178</th>\n",
       "      <th>Oathbreaker, Last Hope of the Breaking Storm</th>\n",
       "      <td>50.76</td>\n",
       "      <td>4.23</td>\n",
       "      <td>12</td>\n",
       "    </tr>\n",
       "    <tr>\n",
       "      <th>82</th>\n",
       "      <th>Nirvana</th>\n",
       "      <td>44.10</td>\n",
       "      <td>4.90</td>\n",
       "      <td>9</td>\n",
       "    </tr>\n",
       "    <tr>\n",
       "      <th>145</th>\n",
       "      <th>Fiery Glass Crusader</th>\n",
       "      <td>41.22</td>\n",
       "      <td>4.58</td>\n",
       "      <td>9</td>\n",
       "    </tr>\n",
       "    <tr>\n",
       "      <th>92</th>\n",
       "      <th>Final Critic</th>\n",
       "      <td>39.04</td>\n",
       "      <td>4.88</td>\n",
       "      <td>8</td>\n",
       "    </tr>\n",
       "    <tr>\n",
       "      <th>103</th>\n",
       "      <th>Singed Scalpel</th>\n",
       "      <td>34.80</td>\n",
       "      <td>4.35</td>\n",
       "      <td>8</td>\n",
       "    </tr>\n",
       "  </tbody>\n",
       "</table>\n",
       "</div>"
      ],
      "text/plain": [
       "                                                      Total Purchase Value  \\\n",
       "Item ID Item Name                                                            \n",
       "178     Oathbreaker, Last Hope of the Breaking Storm                 50.76   \n",
       "82      Nirvana                                                      44.10   \n",
       "145     Fiery Glass Crusader                                         41.22   \n",
       "92      Final Critic                                                 39.04   \n",
       "103     Singed Scalpel                                               34.80   \n",
       "\n",
       "                                                      Item Price  \\\n",
       "Item ID Item Name                                                  \n",
       "178     Oathbreaker, Last Hope of the Breaking Storm        4.23   \n",
       "82      Nirvana                                             4.90   \n",
       "145     Fiery Glass Crusader                                4.58   \n",
       "92      Final Critic                                        4.88   \n",
       "103     Singed Scalpel                                      4.35   \n",
       "\n",
       "                                                      Purchase Count  \n",
       "Item ID Item Name                                                     \n",
       "178     Oathbreaker, Last Hope of the Breaking Storm              12  \n",
       "82      Nirvana                                                    9  \n",
       "145     Fiery Glass Crusader                                       9  \n",
       "92      Final Critic                                               8  \n",
       "103     Singed Scalpel                                             8  "
      ]
     },
     "execution_count": 99,
     "metadata": {},
     "output_type": "execute_result"
    }
   ],
   "source": [
    "item_total_purchase = item_data_count_sorted.sort_values(\"Total Purchase Value\", ascending=False)\n",
    "item_total_purchase.head()\n",
    "\n"
   ]
  }
 ],
 "metadata": {
  "anaconda-cloud": {},
  "kernel_info": {
   "name": "python3"
  },
  "kernelspec": {
   "display_name": "Python 3",
   "language": "python",
   "name": "python3"
  },
  "language_info": {
   "codemirror_mode": {
    "name": "ipython",
    "version": 3
   },
   "file_extension": ".py",
   "mimetype": "text/x-python",
   "name": "python",
   "nbconvert_exporter": "python",
   "pygments_lexer": "ipython3",
   "version": "3.7.1"
  },
  "nteract": {
   "version": "0.2.0"
  }
 },
 "nbformat": 4,
 "nbformat_minor": 2
}
